{
  "nbformat": 4,
  "nbformat_minor": 0,
  "metadata": {
    "colab": {
      "provenance": []
    },
    "kernelspec": {
      "name": "python3",
      "display_name": "Python 3"
    },
    "language_info": {
      "name": "python"
    }
  },
  "cells": [
    {
      "cell_type": "markdown",
      "source": [
        "###Part 1: Fundamentals of Python"
      ],
      "metadata": {
        "id": "8MjDdaaQrWax"
      }
    },
    {
      "cell_type": "markdown",
      "source": [
        "###1.1 (a). Python Syntax and Basic Operations\n",
        "In Python, variables are used to store data. Python supports several data types, including integers, floats, strings, and booleans."
      ],
      "metadata": {
        "id": "cyjJy5PQrabS"
      }
    },
    {
      "cell_type": "code",
      "execution_count": 1,
      "metadata": {
        "colab": {
          "base_uri": "https://localhost:8080/"
        },
        "id": "pR0umG1Uo5iL",
        "outputId": "6093d683-fee2-4c3d-ce3c-69160f112879"
      },
      "outputs": [
        {
          "output_type": "stream",
          "name": "stdout",
          "text": [
            "Integer: 10\n",
            "Float: 3.14\n",
            "String: Hello, Python!\n",
            "Boolean: True\n"
          ]
        }
      ],
      "source": [
        "# Example of different data types in Python\n",
        "\n",
        "# Integer\n",
        "a = 10\n",
        "print(\"Integer:\", a)\n",
        "\n",
        "# Float\n",
        "b = 3.14\n",
        "print(\"Float:\", b)\n",
        "\n",
        "# String\n",
        "c = \"Hello, Python!\"\n",
        "print(\"String:\", c)\n",
        "\n",
        "# Boolean\n",
        "d = True\n",
        "print(\"Boolean:\", d)"
      ]
    },
    {
      "cell_type": "code",
      "source": [
        "# Arithmetic operations\n",
        "x = 5\n",
        "y = 2\n",
        "\n",
        "print(\"Addition:\", x + y)       # Output: 7\n",
        "print(\"Subtraction:\", x - y)    # Output: 3\n",
        "print(\"Multiplication:\", x * y) # Output: 10\n",
        "print(\"Division:\", x / y)       # Output: 2.5\n",
        "\n",
        "# String concatenation\n",
        "first_name = \"John\"\n",
        "last_name = \"Doe\"\n",
        "full_name = first_name + \" \" + last_name\n",
        "print(\"Full Name:\", full_name)  # Output: John Doe"
      ],
      "metadata": {
        "colab": {
          "base_uri": "https://localhost:8080/"
        },
        "id": "zgTskU7prj1J",
        "outputId": "8bd27ca6-e4f1-4882-bf54-0d078e5c06e7"
      },
      "execution_count": 2,
      "outputs": [
        {
          "output_type": "stream",
          "name": "stdout",
          "text": [
            "Addition: 7\n",
            "Subtraction: 3\n",
            "Multiplication: 10\n",
            "Division: 2.5\n",
            "Full Name: John Doe\n"
          ]
        }
      ]
    },
    {
      "cell_type": "markdown",
      "source": [
        "## 1.1(b) Container Types"
      ],
      "metadata": {
        "id": "pFDgJ-Ut-YPI"
      }
    },
    {
      "cell_type": "markdown",
      "source": [
        "List"
      ],
      "metadata": {
        "id": "YxHBd8GGZV8T"
      }
    },
    {
      "cell_type": "code",
      "source": [
        "# List - an ordered collection of items\n",
        "fruits = [\"apple\", \"banana\", \"cherry\"]\n",
        "print(\"List:\", fruits)\n",
        "\n",
        "# Accessing elements\n",
        "print(\"First fruit:\", fruits[0])  # apple\n",
        "\n",
        "# Modifying list\n",
        "fruits.append(\"orange\")\n",
        "print(\"After adding orange:\", fruits)"
      ],
      "metadata": {
        "colab": {
          "base_uri": "https://localhost:8080/"
        },
        "id": "YGuY5wQM9Z9R",
        "outputId": "b3650c8f-9ed1-4dcb-bc0d-8fe06fabee3b"
      },
      "execution_count": 3,
      "outputs": [
        {
          "output_type": "stream",
          "name": "stdout",
          "text": [
            "List: ['apple', 'banana', 'cherry']\n",
            "First fruit: apple\n",
            "After adding orange: ['apple', 'banana', 'cherry', 'orange']\n"
          ]
        }
      ]
    },
    {
      "cell_type": "markdown",
      "source": [
        "Tuple"
      ],
      "metadata": {
        "id": "d0it_Fp5ZXEN"
      }
    },
    {
      "cell_type": "code",
      "source": [
        "# Tuple - similar to list, but immutable (cannot be changed once created)\n",
        "\n",
        "# Example: Storing coordinates of a neuron’s position in 2D space\n",
        "coordinates = (10, 20)\n",
        "print(\"Tuple:\", coordinates)\n",
        "\n",
        "# Accessing elements\n",
        "print(\"X coordinate:\", coordinates[0])\n",
        "print(\"Y coordinate:\", coordinates[1])\n",
        "\n",
        "# Tuples are immutable, so this will cause an error:\n",
        "# coordinates[0] = 15   # Uncommenting this line will raise: TypeError\n",
        "\n",
        "# But you can create a NEW tuple by concatenating two tuples\n",
        "more_coordinates = coordinates + (30, 40)\n",
        "print(\"Extended Tuple:\", more_coordinates)\n",
        "\n",
        "# You can also repeat tuples\n",
        "repeated = coordinates * 3\n",
        "print(\"Repeated Tuple:\", repeated)"
      ],
      "metadata": {
        "colab": {
          "base_uri": "https://localhost:8080/"
        },
        "id": "GyjUsSvQ-e7u",
        "outputId": "5d884773-8b0b-4863-ea08-7295c87223ea"
      },
      "execution_count": 4,
      "outputs": [
        {
          "output_type": "stream",
          "name": "stdout",
          "text": [
            "Tuple: (10, 20)\n",
            "X coordinate: 10\n",
            "Y coordinate: 20\n",
            "Extended Tuple: (10, 20, 30, 40)\n",
            "Repeated Tuple: (10, 20, 10, 20, 10, 20)\n"
          ]
        }
      ]
    },
    {
      "cell_type": "markdown",
      "source": [
        "Set"
      ],
      "metadata": {
        "id": "E6KSw4nNZZWO"
      }
    },
    {
      "cell_type": "code",
      "source": [
        "# Set - unordered collection of unique items\n",
        "unique_numbers = {1, 2, 3, 2, 1}  # duplicates are removed automatically\n",
        "print(\"Initial Set:\", unique_numbers)\n",
        "\n",
        "# Adding items\n",
        "unique_numbers.add(4)\n",
        "print(\"After adding 4:\", unique_numbers)\n",
        "\n",
        "# Removing items (safe remove with discard)\n",
        "unique_numbers.discard(2)\n",
        "print(\"After removing 2:\", unique_numbers)\n",
        "\n",
        "# --- Set arithmetic with neuroscience example ---\n",
        "# Example: sets of neuron IDs active in two different brain regions\n",
        "region_A = {\"n1\", \"n2\", \"n3\", \"n4\"}\n",
        "region_B = {\"n3\", \"n4\", \"n5\"}\n",
        "\n",
        "print(\"\\nRegion A neurons:\", region_A)\n",
        "print(\"Region B neurons:\", region_B)\n",
        "\n",
        "# Union: neurons active in either region\n",
        "print(\"Union (A ∪ B):\", region_A | region_B)\n",
        "\n",
        "# Intersection: neurons active in both regions\n",
        "print(\"Intersection (A ∩ B):\", region_A & region_B)\n",
        "\n",
        "# Difference: neurons in A but not in B\n",
        "print(\"Difference (A - B):\", region_A - region_B)\n",
        "\n",
        "# Symmetric difference: neurons active in A or B but not both\n",
        "print(\"Symmetric Difference (A Δ B):\", region_A ^ region_B)     #AΔB=(A∪B)−(A∩B)"
      ],
      "metadata": {
        "colab": {
          "base_uri": "https://localhost:8080/"
        },
        "id": "onp1Q0ZX-jkj",
        "outputId": "21d19337-ec2d-4aa4-846a-b283d2befde2"
      },
      "execution_count": 5,
      "outputs": [
        {
          "output_type": "stream",
          "name": "stdout",
          "text": [
            "Initial Set: {1, 2, 3}\n",
            "After adding 4: {1, 2, 3, 4}\n",
            "After removing 2: {1, 3, 4}\n",
            "\n",
            "Region A neurons: {'n2', 'n3', 'n4', 'n1'}\n",
            "Region B neurons: {'n5', 'n4', 'n3'}\n",
            "Union (A ∪ B): {'n5', 'n3', 'n2', 'n4', 'n1'}\n",
            "Intersection (A ∩ B): {'n4', 'n3'}\n",
            "Difference (A - B): {'n2', 'n1'}\n",
            "Symmetric Difference (A Δ B): {'n2', 'n5', 'n1'}\n"
          ]
        }
      ]
    },
    {
      "cell_type": "markdown",
      "source": [
        "Dictionary"
      ],
      "metadata": {
        "id": "dLO4Z4s_Zaqd"
      }
    },
    {
      "cell_type": "code",
      "source": [
        "\"\"\"\n",
        "Goal: Show how key→value mappings help store and analyze structured neural data.\n",
        "Each section explains itself briefly, then demonstrates the idea with code.\n",
        "\"\"\"\n",
        "\n",
        "print(\"\\n=== 1) CREATE & READ ===\")\n",
        "# What: Make a dict for one neuron; read values by key.\n",
        "# Why (neuro): Store properties like type, brain region, and firing rate together.\n",
        "neuron = {\n",
        "    \"id\": 101,\n",
        "    \"type\": \"Pyramidal\",\n",
        "    \"region\": \"Cortex\",\n",
        "    \"firing_rate_hz\": 7.3\n",
        "}\n",
        "print(\"Neuron:\", neuron)\n",
        "print(\"ID:\", neuron[\"id\"])\n",
        "print(\"Type:\", neuron[\"type\"])\n",
        "print(\"Region:\", neuron[\"region\"])\n",
        "print(\"Firing rate (Hz):\", neuron[\"firing_rate_hz\"])"
      ],
      "metadata": {
        "colab": {
          "base_uri": "https://localhost:8080/"
        },
        "id": "brTAGJS5co_L",
        "outputId": "b7c095c8-6b03-4921-999e-00b9f711c721"
      },
      "execution_count": 6,
      "outputs": [
        {
          "output_type": "stream",
          "name": "stdout",
          "text": [
            "\n",
            "=== 1) CREATE & READ ===\n",
            "Neuron: {'id': 101, 'type': 'Pyramidal', 'region': 'Cortex', 'firing_rate_hz': 7.3}\n",
            "ID: 101\n",
            "Type: Pyramidal\n",
            "Region: Cortex\n",
            "Firing rate (Hz): 7.3\n"
          ]
        }
      ]
    },
    {
      "cell_type": "code",
      "source": [
        "print(\"\\n=== 2) ADD & UPDATE ===\")\n",
        "# What: Add a new field or change an existing one.\n",
        "# Why (neuro): Annotate new metadata (e.g., cortical layer) or update measurements.\n",
        "neuron[\"layer\"] = \"L5\"\n",
        "neuron[\"firing_rate_hz\"] = 8.1\n",
        "print(\"After add/update:\", neuron)\n",
        "\n",
        "print(\"\\n=== 3) SAFE LOOKUPS WITH .get() ===\")\n",
        "# What: Use .get(key, default) to avoid KeyError if a field is missing.\n",
        "# Why (neuro): Datasets are messy—some neurons lack certain annotations.\n",
        "print(\"Subtype (safe):\", neuron.get(\"subtype\", \"not recorded\"))\n",
        "print(\"Electrode (safe):\", neuron.get(\"electrode\", \"E1\"))"
      ],
      "metadata": {
        "colab": {
          "base_uri": "https://localhost:8080/"
        },
        "id": "-SHYGAIZcrgL",
        "outputId": "9cc3b6a7-9973-46bb-a405-42b518b519c3"
      },
      "execution_count": 7,
      "outputs": [
        {
          "output_type": "stream",
          "name": "stdout",
          "text": [
            "\n",
            "=== 2) ADD & UPDATE ===\n",
            "After add/update: {'id': 101, 'type': 'Pyramidal', 'region': 'Cortex', 'firing_rate_hz': 8.1, 'layer': 'L5'}\n",
            "\n",
            "=== 3) SAFE LOOKUPS WITH .get() ===\n",
            "Subtype (safe): not recorded\n",
            "Electrode (safe): E1\n"
          ]
        }
      ]
    },
    {
      "cell_type": "code",
      "source": [
        "print(\"\\n=== 4) REMOVE KEYS ===\")\n",
        "# What: Remove entries with pop(); returns the removed value (or a default).\n",
        "# Why (neuro): Clean up temporary fields or drop unused metadata.\n",
        "removed_layer = neuron.pop(\"layer\", None)\n",
        "print(\"Removed 'layer':\", removed_layer)\n",
        "print(\"After pop:\", neuron)\n",
        "\n",
        "print(\"\\n=== 5) KEYS / VALUES / ITEMS (VIEWS) ===\")\n",
        "# What: Inspect the structure (keys), data (values), or both (items).\n",
        "# Why (neuro): Quickly see which fields exist before analysis.\n",
        "print(\"Keys:\", list(neuron.keys()))\n",
        "print(\"Values:\", list(neuron.values()))\n",
        "print(\"Items:\", list(neuron.items()))\n",
        "print(\"'region' in keys? ->\", \"region\" in neuron)"
      ],
      "metadata": {
        "colab": {
          "base_uri": "https://localhost:8080/"
        },
        "id": "e8_dCkavctzK",
        "outputId": "815c2298-272f-4adc-c5d3-7e167bb4e442"
      },
      "execution_count": 8,
      "outputs": [
        {
          "output_type": "stream",
          "name": "stdout",
          "text": [
            "\n",
            "=== 4) REMOVE KEYS ===\n",
            "Removed 'layer': L5\n",
            "After pop: {'id': 101, 'type': 'Pyramidal', 'region': 'Cortex', 'firing_rate_hz': 8.1}\n",
            "\n",
            "=== 5) KEYS / VALUES / ITEMS (VIEWS) ===\n",
            "Keys: ['id', 'type', 'region', 'firing_rate_hz']\n",
            "Values: [101, 'Pyramidal', 'Cortex', 8.1]\n",
            "Items: [('id', 101), ('type', 'Pyramidal'), ('region', 'Cortex'), ('firing_rate_hz', 8.1)]\n",
            "'region' in keys? -> True\n"
          ]
        }
      ]
    },
    {
      "cell_type": "code",
      "source": [
        "print(\"\\n=== 6) ITERATION PATTERNS ===\")\n",
        "# What: Loop over keys, or over (key, value) pairs.\n",
        "# Why (neuro): Print or transform all fields in a record.\n",
        "print(\"-- iterate over keys --\")\n",
        "for k in neuron:\n",
        "    print(k, \"=>\", neuron[k])\n",
        "\n",
        "print(\"-- iterate over items (key, value pairs) --\")\n",
        "for k, v in neuron.items():\n",
        "    print(f\"{k}: {v}\")\n",
        "\n",
        "print(\"\\n=== 7) SMALL DATASET: LIST OF NEURON DICTS ===\")\n",
        "# What: A list of dictionaries models a small dataset of neurons.\n",
        "# Why (neuro): Real experiments produce many cells; each row is a neuron.\n",
        "neurons = [\n",
        "    {\"id\": 1, \"type\": \"Pyramidal\",  \"region\": \"Cortex\",      \"firing_rate_hz\": 5.2},\n",
        "    {\"id\": 2, \"type\": \"Interneuron\",\"region\": \"Cortex\",      \"firing_rate_hz\": 12.1},\n",
        "    {\"id\": 3, \"type\": \"Pyramidal\",  \"region\": \"Hippocampus\", \"firing_rate_hz\": 6.8},\n",
        "    {\"id\": 4, \"type\": \"Purkinje\",   \"region\": \"Cerebellum\",  \"firing_rate_hz\": 1.9},\n",
        "    {\"id\": 5, \"type\": \"Interneuron\",\"region\": \"Hippocampus\", \"firing_rate_hz\": 9.4},\n",
        "]\n",
        "print(\"Dataset size:\", len(neurons))"
      ],
      "metadata": {
        "colab": {
          "base_uri": "https://localhost:8080/"
        },
        "id": "fpiqNqpEcw_q",
        "outputId": "7a01327f-ffce-4d3e-e5ee-5a78f9bc86e9"
      },
      "execution_count": 9,
      "outputs": [
        {
          "output_type": "stream",
          "name": "stdout",
          "text": [
            "\n",
            "=== 6) ITERATION PATTERNS ===\n",
            "-- iterate over keys --\n",
            "id => 101\n",
            "type => Pyramidal\n",
            "region => Cortex\n",
            "firing_rate_hz => 8.1\n",
            "-- iterate over items (key, value pairs) --\n",
            "id: 101\n",
            "type: Pyramidal\n",
            "region: Cortex\n",
            "firing_rate_hz: 8.1\n",
            "\n",
            "=== 7) SMALL DATASET: LIST OF NEURON DICTS ===\n",
            "Dataset size: 5\n"
          ]
        }
      ]
    },
    {
      "cell_type": "markdown",
      "source": [
        "###1.2 Control Structures - Conditionals and Loops"
      ],
      "metadata": {
        "id": "AAT9F5MUrxQG"
      }
    },
    {
      "cell_type": "code",
      "source": [
        "\"\"\"\n",
        "===========================================\n",
        "Control Flow in Python\n",
        "Sections:\n",
        "  - Conditionals (if / elif / else)\n",
        "  - Loops (for / while) + break/continue\n",
        "===========================================\n",
        "\"\"\"\n",
        "\n",
        "print(\"\\n=== 1) CONDITIONALS (if / elif / else) ===\")\n",
        "\n",
        "# 1.2.1: Basic condition\n",
        "firing_rate_hz = 7.5  # spikes per second for one neuron\n",
        "threshold_hz = 6.0\n",
        "\n",
        "# If the neuron is above threshold, say it's highly active; otherwise, not very active.\n",
        "if firing_rate_hz > threshold_hz:\n",
        "    print(\"Neuron is highly active (rate:\", firing_rate_hz, \"Hz).\")\n",
        "else:\n",
        "    print(\"Neuron is not very active (rate:\", firing_rate_hz, \"Hz).\")\n",
        "\n",
        "# 1.2.2: if / elif / else chain\n",
        "# Classify activity into multiple bands (low, medium, high).\n",
        "if firing_rate_hz >= 10:\n",
        "    print(\"Activity level: HIGH\")\n",
        "elif firing_rate_hz >= 5:\n",
        "    print(\"Activity level: MEDIUM\")\n",
        "else:\n",
        "    print(\"Activity level: LOW\")"
      ],
      "metadata": {
        "colab": {
          "base_uri": "https://localhost:8080/"
        },
        "id": "EtELhsC5edAR",
        "outputId": "f1d2330d-ce3f-4e88-a584-a8820e4474d1"
      },
      "execution_count": 10,
      "outputs": [
        {
          "output_type": "stream",
          "name": "stdout",
          "text": [
            "\n",
            "=== 1) CONDITIONALS (if / elif / else) ===\n",
            "Neuron is highly active (rate: 7.5 Hz).\n",
            "Activity level: MEDIUM\n"
          ]
        }
      ]
    },
    {
      "cell_type": "code",
      "source": [
        "# 1.2.3: Combining conditions with logical operators (and / or / not)\n",
        "# Example: A spike might be counted only if rate > threshold AND not in refractory.\n",
        "in_refractory = False  # True means neuron is temporarily prevented from firing again\n",
        "if (firing_rate_hz > threshold_hz) and (not in_refractory):\n",
        "    print(\"Spike counted: above threshold and not refractory.\")\n",
        "else:\n",
        "    print(\"No spike counted due to low rate or refractory period.\")\n",
        "\n",
        "# 1.2.4: Membership tests (in) — useful for labels/IDs\n",
        "excitatory_types = {\"Pyramidal\", \"Spiny stellate\"}\n",
        "neuron_type = \"Pyramidal\"\n",
        "if neuron_type in excitatory_types:\n",
        "    print(neuron_type, \"neuron is excitatory.\")\n",
        "else:\n",
        "    print(neuron_type, \"neuron is not in the excitatory set.\")"
      ],
      "metadata": {
        "colab": {
          "base_uri": "https://localhost:8080/"
        },
        "id": "1WYNKy3VelQt",
        "outputId": "b67af127-6c82-4335-cb22-4b84260b2be9"
      },
      "execution_count": 11,
      "outputs": [
        {
          "output_type": "stream",
          "name": "stdout",
          "text": [
            "Spike counted: above threshold and not refractory.\n",
            "Pyramidal neuron is excitatory.\n"
          ]
        }
      ]
    },
    {
      "cell_type": "code",
      "source": [
        "# 1.2.5: Safe dictionary lookups using conditionals\n",
        "neuron = {\n",
        "    \"id\": 101,\n",
        "    \"type\": \"Interneuron\",\n",
        "    \"region\": \"Hippocampus\",\n",
        "    \"firing_rate_hz\": 3.2\n",
        "}\n",
        "# Only print subtype if it exists in the dict\n",
        "if \"subtype\" in neuron:\n",
        "    print(\"Subtype:\", neuron[\"subtype\"])\n",
        "else:\n",
        "    print(\"Subtype: not recorded.\")"
      ],
      "metadata": {
        "colab": {
          "base_uri": "https://localhost:8080/"
        },
        "id": "Z-DHpH-XewP8",
        "outputId": "65d54876-c69c-4924-8c05-7693b9c860c1"
      },
      "execution_count": 12,
      "outputs": [
        {
          "output_type": "stream",
          "name": "stdout",
          "text": [
            "Subtype: not recorded.\n"
          ]
        }
      ]
    },
    {
      "cell_type": "code",
      "source": [
        "print(\"\\n=== 2) LOOPS (for / while) ===\")\n",
        "\n",
        "# We'll work with a small dataset: a list of neurons (each a dict)\n",
        "neurons = [\n",
        "    {\"id\": 1, \"type\": \"Pyramidal\",  \"region\": \"Cortex\",     \"firing_rate_hz\": 5.2},\n",
        "    {\"id\": 2, \"type\": \"Interneuron\",\"region\": \"Cortex\",     \"firing_rate_hz\": 12.1},\n",
        "    {\"id\": 3, \"type\": \"Pyramidal\",  \"region\": \"Hippocampus\",\"firing_rate_hz\": 6.8},\n",
        "    {\"id\": 4, \"type\": \"Purkinje\",   \"region\": \"Cerebellum\", \"firing_rate_hz\": 1.9},\n",
        "]\n",
        "\n",
        "# 1.2.6: for-loop over a list\n",
        "print(\"\\n-- 1.2.6 for-loop over a list --\")\n",
        "for cell in neurons:\n",
        "    label = f\"Neuron {cell['id']} ({cell['type']}, {cell['region']})\"\n",
        "    if cell[\"firing_rate_hz\"] > 6.0:\n",
        "        print(label, \"=> highly active\")\n",
        "    else:\n",
        "        print(label, \"=> moderately/low active\")\n",
        "\n",
        "# 1.2.7: for-loop with range() — counting iterations (e.g., timesteps)\n",
        "print(\"\\n-- 1.2.7 for-loop with range() (timesteps) --\")\n",
        "# Simulate 5 time bins; in real code, you’d update a signal in each step.\n",
        "for t in range(5):  # t = 0,1,2,3,4\n",
        "    print(\"Time bin:\", t)"
      ],
      "metadata": {
        "colab": {
          "base_uri": "https://localhost:8080/"
        },
        "id": "nvegyKOPe89k",
        "outputId": "3926e180-061d-4c0b-cf50-1c33ae796486"
      },
      "execution_count": 13,
      "outputs": [
        {
          "output_type": "stream",
          "name": "stdout",
          "text": [
            "\n",
            "=== 2) LOOPS (for / while) ===\n",
            "\n",
            "-- 1.2.6 for-loop over a list --\n",
            "Neuron 1 (Pyramidal, Cortex) => moderately/low active\n",
            "Neuron 2 (Interneuron, Cortex) => highly active\n",
            "Neuron 3 (Pyramidal, Hippocampus) => highly active\n",
            "Neuron 4 (Purkinje, Cerebellum) => moderately/low active\n",
            "\n",
            "-- 1.2.7 for-loop with range() (timesteps) --\n",
            "Time bin: 0\n",
            "Time bin: 1\n",
            "Time bin: 2\n",
            "Time bin: 3\n",
            "Time bin: 4\n"
          ]
        }
      ]
    },
    {
      "cell_type": "code",
      "source": [
        "# 1.2.8: enumerate() to get index + value together\n",
        "print(\"\\n-- 1.2.8 enumerate() for numbered readings --\")\n",
        "firing_trace = [0.2, 0.5, 1.1, 2.0, 0.9]  # e.g., mV over time (toy values)\n",
        "for idx, value in enumerate(firing_trace):\n",
        "    print(f\"t={idx}: membrane ~ {value} mV\")\n",
        "\n",
        "# 1.2.9: zip() to iterate over two sequences in lockstep (times + rates)\n",
        "print(\"\\n-- 1.2.9 zip() times and rates --\")\n",
        "times_ms = [0, 1, 2, 3, 4]\n",
        "rates_hz = [3.0, 4.5, 6.2, 7.1, 5.8]\n",
        "for t, r in zip(times_ms, rates_hz):\n",
        "    state = \"FAST\" if r > threshold_hz else \"SLOW\"\n",
        "    print(f\"t={t} ms: {r} Hz -> {state}\")"
      ],
      "metadata": {
        "colab": {
          "base_uri": "https://localhost:8080/"
        },
        "id": "057Fk4GMfALS",
        "outputId": "ae56ffee-604a-451a-9ec3-f74c17347a18"
      },
      "execution_count": 14,
      "outputs": [
        {
          "output_type": "stream",
          "name": "stdout",
          "text": [
            "\n",
            "-- 1.2.8 enumerate() for numbered readings --\n",
            "t=0: membrane ~ 0.2 mV\n",
            "t=1: membrane ~ 0.5 mV\n",
            "t=2: membrane ~ 1.1 mV\n",
            "t=3: membrane ~ 2.0 mV\n",
            "t=4: membrane ~ 0.9 mV\n",
            "\n",
            "-- 1.2.9 zip() times and rates --\n",
            "t=0 ms: 3.0 Hz -> SLOW\n",
            "t=1 ms: 4.5 Hz -> SLOW\n",
            "t=2 ms: 6.2 Hz -> FAST\n",
            "t=3 ms: 7.1 Hz -> FAST\n",
            "t=4 ms: 5.8 Hz -> SLOW\n"
          ]
        }
      ]
    },
    {
      "cell_type": "code",
      "source": [
        "# 1.2.10: while-loop — run until a condition changes\n",
        "print(\"\\n-- 1.2.10 while-loop: integrate until threshold or max steps --\")\n",
        "# Toy integrate-and-fire feel: membrane potential creeps up until it crosses threshold.\n",
        "membrane_potential = 0.0\n",
        "spike_threshold = 1.0\n",
        "step = 0\n",
        "max_steps = 10\n",
        "increment = 0.22  # pretend synaptic input pushes the membrane up a bit each step\n",
        "\n",
        "while membrane_potential < spike_threshold and step < max_steps:\n",
        "    step += 1\n",
        "    membrane_potential += increment\n",
        "    print(f\"Step {step}: V={membrane_potential:.2f}\")\n",
        "# After the loop, check why we stopped\n",
        "if membrane_potential >= spike_threshold:\n",
        "    print(\"Spike! Threshold reached.\")\n",
        "else:\n",
        "    print(\"No spike: hit max steps before threshold.\")\n",
        "\n",
        "# 1.2.11: break and continue in loops (skipping artifacts, stopping on event)\n",
        "print(\"\\n-- 1.2.11 break/continue in context --\")\n",
        "# Example: skip artifact-labeled samples; break if seizure event is detected\n",
        "samples = [\n",
        "    {\"t\": 0, \"value\": 0.3, \"label\": \"ok\"},\n",
        "    {\"t\": 1, \"value\": 0.7, \"label\": \"artifact\"},\n",
        "    {\"t\": 2, \"value\": 1.5, \"label\": \"ok\"},\n",
        "    {\"t\": 3, \"value\": 9.9, \"label\": \"seizure\"},\n",
        "    {\"t\": 4, \"value\": 0.2, \"label\": \"ok\"},\n",
        "]\n",
        "for s in samples:\n",
        "    if s[\"label\"] == \"artifact\":\n",
        "        # skip this sample entirely\n",
        "        continue\n",
        "    if s[\"label\"] == \"seizure\":\n",
        "        print(f\"Seizure detected at t={s['t']}! Halting analysis.\")\n",
        "        break\n",
        "    print(f\"t={s['t']} value={s['value']} label={s['label']}\")"
      ],
      "metadata": {
        "colab": {
          "base_uri": "https://localhost:8080/"
        },
        "id": "Luc41sKofEnn",
        "outputId": "af578934-eb0a-40ef-8daf-e412a81c2c68"
      },
      "execution_count": 15,
      "outputs": [
        {
          "output_type": "stream",
          "name": "stdout",
          "text": [
            "\n",
            "-- 1.2.10 while-loop: integrate until threshold or max steps --\n",
            "Step 1: V=0.22\n",
            "Step 2: V=0.44\n",
            "Step 3: V=0.66\n",
            "Step 4: V=0.88\n",
            "Step 5: V=1.10\n",
            "Spike! Threshold reached.\n",
            "\n",
            "-- 1.2.11 break/continue in context --\n",
            "t=0 value=0.3 label=ok\n",
            "t=2 value=1.5 label=ok\n",
            "Seizure detected at t=3! Halting analysis.\n"
          ]
        }
      ]
    },
    {
      "cell_type": "code",
      "source": [
        "# 1.2.12: Nested loops (small grid of neurons)\n",
        "print(\"\\n-- 1.2.12 nested loops: tiny grid of neurons --\")\n",
        "grid = [\n",
        "    [ {\"id\":11, \"rate\":4.1}, {\"id\":12, \"rate\":7.3} ],\n",
        "    [ {\"id\":21, \"rate\":6.0}, {\"id\":22, \"rate\":2.5} ],\n",
        "]\n",
        "row_index = 0\n",
        "for row in grid:\n",
        "    col_index = 0\n",
        "    for cell in row:\n",
        "        tag = \"FAST\" if cell[\"rate\"] > threshold_hz else \"SLOW\"\n",
        "        print(f\"row={row_index} col={col_index}: id={cell['id']} {tag}\")\n",
        "        col_index += 1\n",
        "    row_index += 1\n",
        "\n",
        "# 1.2.13: Mini aggregation task with a loop (average rate by type)\n",
        "print(\"\\n-- 1.2.13 aggregation: average firing rate by neuron type --\")\n",
        "# Collect sums and counts per type\n",
        "sums = {}\n",
        "counts = {}\n",
        "for cell in neurons:\n",
        "    t = cell[\"type\"]\n",
        "    sums[t] = sums.get(t, 0.0) + cell[\"firing_rate_hz\"]\n",
        "    counts[t] = counts.get(t, 0) + 1\n",
        "\n",
        "# Compute and print averages\n",
        "for t in sums:\n",
        "    avg = sums[t] / counts[t]\n",
        "    print(f\"Type: {t:11s} | n={counts[t]} | avg rate = {avg:.2f} Hz\")\n",
        "\n",
        "# 1.2.14: List comprehension as a \"loop expression\"\n",
        "print(\"\\n-- 1.2.14 list comprehension (preview) --\")\n",
        "# Extract IDs of highly active neurons in one line\n",
        "high_ids = [cell[\"id\"] for cell in neurons if cell[\"firing_rate_hz\"] > threshold_hz]\n",
        "print(\"Highly active neuron IDs:\", high_ids)"
      ],
      "metadata": {
        "colab": {
          "base_uri": "https://localhost:8080/"
        },
        "id": "EAI4YZusTTdZ",
        "outputId": "5e351086-6d64-445a-9f1c-67c1d11f22ff"
      },
      "execution_count": 16,
      "outputs": [
        {
          "output_type": "stream",
          "name": "stdout",
          "text": [
            "\n",
            "-- 1.2.12 nested loops: tiny grid of neurons --\n",
            "row=0 col=0: id=11 SLOW\n",
            "row=0 col=1: id=12 FAST\n",
            "row=1 col=0: id=21 SLOW\n",
            "row=1 col=1: id=22 SLOW\n",
            "\n",
            "-- 1.2.13 aggregation: average firing rate by neuron type --\n",
            "Type: Pyramidal   | n=2 | avg rate = 6.00 Hz\n",
            "Type: Interneuron | n=1 | avg rate = 12.10 Hz\n",
            "Type: Purkinje    | n=1 | avg rate = 1.90 Hz\n",
            "\n",
            "-- 1.2.14 list comprehension (preview) --\n",
            "Highly active neuron IDs: [2, 3]\n"
          ]
        }
      ]
    },
    {
      "cell_type": "markdown",
      "source": [
        "###1.3 Functions\n",
        "\n",
        "Functions are reusable blocks of code that perform a specific task."
      ],
      "metadata": {
        "id": "J49ngYiUtUqY"
      }
    },
    {
      "cell_type": "code",
      "source": [
        "print(\"\\n=== 1) SIMPLE FUNCTION ===\")\n",
        "# Functions group reusable logic into one block.\n",
        "# Example: say hello to a scientist by name.\n",
        "def greet(name):\n",
        "    return \"Hello, \" + name + \"!\"\n",
        "\n",
        "print(greet(\"Alice\"))\n",
        "\n",
        "\n",
        "print(\"\\n=== 2) FUNCTION WITH PARAMETERS ===\")\n",
        "# Example: Check if a neuron is above threshold firing rate.\n",
        "def is_active(firing_rate, threshold=6.0):\n",
        "    if firing_rate > threshold:\n",
        "        return True\n",
        "    else:\n",
        "        return False\n",
        "\n",
        "print(\"Neuron firing at 7.5 Hz active?\", is_active(7.5))\n",
        "\n",
        "\n",
        "print(\"\\n=== 3) FUNCTION RETURNING CALCULATED VALUE ===\")\n",
        "# Example: Compute average firing rate from a list of measurements.\n",
        "def average_rate(rates):\n",
        "    return sum(rates) / len(rates)\n",
        "\n",
        "rates = [5.2, 6.8, 7.1, 4.9]\n",
        "print(\"Average firing rate:\", average_rate(rates))\n",
        "\n",
        "\n",
        "print(\"\\n=== 4) FUNCTION WITH MULTIPLE RETURNS ===\")\n",
        "# Example: Return both mean and max firing rate for a neuron.\n",
        "def analyze_rates(rates):\n",
        "    mean = sum(rates) / len(rates)\n",
        "    maximum = max(rates)\n",
        "    return mean, maximum\n",
        "\n",
        "mean, maximum = analyze_rates(rates)\n",
        "print(\"Mean:\", mean, \"Max:\", maximum)\n",
        "\n",
        "\n",
        "print(\"\\n=== 5) FUNCTIONS + LOOPS ===\")\n",
        "# Example: Apply our is_active() function to a dataset of neurons.\n",
        "neurons = [\n",
        "    {\"id\": 1, \"rate\": 5.2},\n",
        "    {\"id\": 2, \"rate\": 7.5},\n",
        "    {\"id\": 3, \"rate\": 3.9},\n",
        "]\n",
        "\n",
        "for cell in neurons:\n",
        "    print(f\"Neuron {cell['id']} active?\", is_active(cell[\"rate\"]))"
      ],
      "metadata": {
        "colab": {
          "base_uri": "https://localhost:8080/"
        },
        "id": "gy8_uTvwsYrg",
        "outputId": "f088c861-52a1-47d4-8e5a-89137f98bddb"
      },
      "execution_count": 17,
      "outputs": [
        {
          "output_type": "stream",
          "name": "stdout",
          "text": [
            "\n",
            "=== 1) SIMPLE FUNCTION ===\n",
            "Hello, Alice!\n",
            "\n",
            "=== 2) FUNCTION WITH PARAMETERS ===\n",
            "Neuron firing at 7.5 Hz active? True\n",
            "\n",
            "=== 3) FUNCTION RETURNING CALCULATED VALUE ===\n",
            "Average firing rate: 6.0\n",
            "\n",
            "=== 4) FUNCTION WITH MULTIPLE RETURNS ===\n",
            "Mean: 6.0 Max: 7.1\n",
            "\n",
            "=== 5) FUNCTIONS + LOOPS ===\n",
            "Neuron 1 active? False\n",
            "Neuron 2 active? True\n",
            "Neuron 3 active? False\n"
          ]
        }
      ]
    },
    {
      "cell_type": "markdown",
      "source": [
        "###Part 2: Python for Scientific Computing"
      ],
      "metadata": {
        "id": "yAUjhgNHuKT8"
      }
    },
    {
      "cell_type": "markdown",
      "source": [
        "###2.1 Introduction to NumPy and Matplotlib"
      ],
      "metadata": {
        "id": "AvIId_XcuR-c"
      }
    },
    {
      "cell_type": "markdown",
      "source": [
        "####2.1.1 NumPy Basics\n",
        "\n",
        "NumPy is a fundamental package for numerical computing in Python. It provides support for arrays, matrices, and many mathematical functions."
      ],
      "metadata": {
        "id": "rEoltdaVuXaf"
      }
    },
    {
      "cell_type": "code",
      "source": [
        "import numpy as np\n",
        "\n",
        "# Creating a NumPy array\n",
        "array = np.array([1, 2, 3, 4, 5])\n",
        "print(\"NumPy Array:\", array)\n",
        "\n",
        "# Basic operations with NumPy arrays\n",
        "print(\"Sum of array:\", np.sum(array))\n",
        "print(\"Mean of array:\", np.mean(array))"
      ],
      "metadata": {
        "colab": {
          "base_uri": "https://localhost:8080/"
        },
        "id": "kgaq93sUtiBH",
        "outputId": "89a111e8-7423-4075-e503-7626735b4323"
      },
      "execution_count": 18,
      "outputs": [
        {
          "output_type": "stream",
          "name": "stdout",
          "text": [
            "NumPy Array: [1 2 3 4 5]\n",
            "Sum of array: 15\n",
            "Mean of array: 3.0\n"
          ]
        }
      ]
    },
    {
      "cell_type": "markdown",
      "source": [
        "####2.1.2 Matplotlib Basics\n",
        "\n",
        "Matplotlib is a plotting library for Python. It provides tools for creating static, animated, and interactive plots."
      ],
      "metadata": {
        "id": "0c3H0aQ9uh5O"
      }
    },
    {
      "cell_type": "code",
      "source": [
        "import matplotlib.pyplot as plt\n",
        "\n",
        "# Simple line plot\n",
        "x = np.linspace(0, 10, 100)\n",
        "y = np.sin(x)\n",
        "\n",
        "plt.plot(x, y)\n",
        "plt.xlabel('x-axis')\n",
        "plt.ylabel('y-axis')\n",
        "plt.title('Sine Wave')\n",
        "plt.show()"
      ],
      "metadata": {
        "colab": {
          "base_uri": "https://localhost:8080/",
          "height": 472
        },
        "id": "fERwHGqRugu7",
        "outputId": "5d6fe53e-1a57-4430-b489-69880f700608"
      },
      "execution_count": 19,
      "outputs": [
        {
          "output_type": "display_data",
          "data": {
            "text/plain": [
              "<Figure size 640x480 with 1 Axes>"
            ],
            "image/png": "[encoded data removed]"
          },
          "metadata": {}
        }
      ]
    },
    {
      "cell_type": "markdown",
      "source": [
        "###2.2 Importing and Using Modules"
      ],
      "metadata": {
        "id": "lCLuWr_uu2yN"
      }
    },
    {
      "cell_type": "markdown",
      "source": [
        "Modules in Python are files containing Python code. You can import a module using the import statement and use its functions and classes."
      ],
      "metadata": {
        "id": "uWw24Aeeu8v7"
      }
    },
    {
      "cell_type": "code",
      "source": [
        "# Importing the math module\n",
        "import math\n",
        "\n",
        "# Using a function from the math module\n",
        "result = math.sqrt(16)\n",
        "print(\"Square root of 16 is:\", result)  # Output: 4.0"
      ],
      "metadata": {
        "colab": {
          "base_uri": "https://localhost:8080/"
        },
        "id": "xmWpHh3nuayM",
        "outputId": "a2520cad-bd80-4cc7-b2f8-34064febca04"
      },
      "execution_count": 20,
      "outputs": [
        {
          "output_type": "stream",
          "name": "stdout",
          "text": [
            "Square root of 16 is: 4.0\n"
          ]
        }
      ]
    },
    {
      "cell_type": "markdown",
      "source": [
        "###Part 3: Introduction to Neuronal Modeling"
      ],
      "metadata": {
        "id": "xG3dO5GXvEio"
      }
    },
    {
      "cell_type": "markdown",
      "source": [
        "###3.1 Classes and objects"
      ],
      "metadata": {
        "id": "mVqOzsQlC2Z4"
      }
    },
    {
      "cell_type": "code",
      "source": [
        "# Basic example of a class\n",
        "class Dog:\n",
        "    def __init__(self, name):\n",
        "        self.name = name\n",
        "\n",
        "    def bark(self):\n",
        "        return self.name + \" says woof!\"\n",
        "\n",
        "# Creating an object\n",
        "my_dog = Dog(\"Buddy\")\n",
        "print(my_dog.bark())  # Output: Buddy says woof!"
      ],
      "metadata": {
        "colab": {
          "base_uri": "https://localhost:8080/"
        },
        "id": "gVjJrXxIC5nU",
        "outputId": "10d4a278-f3e2-4e84-f604-4b3a86e5d243"
      },
      "execution_count": 21,
      "outputs": [
        {
          "output_type": "stream",
          "name": "stdout",
          "text": [
            "Buddy says woof!\n"
          ]
        }
      ]
    },
    {
      "cell_type": "markdown",
      "source": [
        "###3.2 Setting up the neuron class"
      ],
      "metadata": {
        "id": "KK-DX_iBDDhr"
      }
    },
    {
      "cell_type": "code",
      "source": [
        "import numpy as np\n",
        "import matplotlib.pyplot as plt\n",
        "import matplotlib as mpl\n",
        "from matplotlib.ticker import AutoMinorLocator, MaxNLocator, FormatStrFormatter\n",
        "\n",
        "class Neuron():\n",
        "\n",
        "    # The __init__ method is a special method that is automatically called when a new instance of the class is created.\n",
        "    def __init__(self):     # Intialise neuron variables\n",
        "        self.C  = 0.281     # The self keyword refers to the instance of the class itself, allowing each instance to have its own capacitance (C).\n",
        "        self.gL = 0.030     # leak conductance (units of microsiemens, μS) represents the ease with which ions can flow through the membrane leak channels.\n",
        "        self.vR = -60.6     # membrane potential. -60.6 millivolts (mV), typical voltage across the neuron's membrane when it is not actively firing.\n",
        "        self.vT = -50.4     # spike threshold. This is membrane potential at which the neuron will generate a spike or action potential.\n",
        "\n",
        "\n",
        "    # This method is responsible for generating an external input current that will be injected into the neuron.\n",
        "    def create_injection_current(self): #current injection function\n",
        "        max_current = 1     # unit nanoamperes, nA\n",
        "        self.currentInj = np.append(np.zeros(10),np.arange(0,max_current,0.01)) #10 zeros appended with 0 to 1(non-inclusive) with step of 0.01\n",
        "        self.T = len(self.currentInj) #total time of simulation\n",
        "\n",
        "\n",
        "    def leaky_integrate_and_fire(self): #leaky-integrate-and-fire function\n",
        "        self.timeseries = np.linspace(0,self.T-1,self.T) #timeseries ranging from 0 to T-1. 'T' are the total points.\n",
        "        self.V=np.ones(self.T)*self.vR #membrane potential array (V) with all values set to the resting potential (vR).\n",
        "        ii=0 #counter\n",
        "\n",
        "        while ii<self.T-2:\n",
        "            #calculate the change in membrane potential (dV) using the leaky integrate-and-fire equation\n",
        "            dV=(-self.gL*(self.V[ii]-self.vR)+self.currentInj[ii])/self.C\n",
        "            #-self.gL*(self.V[ii]-self.vR) represents leak current (difference between current voltage and resting potential times the leak conductance)\n",
        "            #+self.currentInj[ii] adds the current injected at time step ii\n",
        "            #/self.C divides membrane capacitance to get the change in voltage\n",
        "            self.V[ii+1]=self.V[ii]+dV # update membrane potential for the next time step (ii + 1) by adding the change in voltage (dV) to the current potential (V[ii]).\n",
        "            if self.V[ii+1]>self.vT: #checks if the updated membrane potential exceeds the spike threshold (vT).\n",
        "                self.V[ii+1]=20 #If the threshold is exceeded, this line sets the membrane potential to 20 mV, representing a spike (action potential).\n",
        "                self.V[ii+2]=self.vR #The next time step (ii + 2) is set back to the resting potential (vR), simulating the neuron's refractory period after a spike.\n",
        "                ii+=1\n",
        "            ii+=1\n",
        "\n",
        "    def plot_neuron(self, save=False, outbase=\"figure_neuron\", use_constrained=True):\n",
        "        rc = {\n",
        "            \"figure.dpi\": 120,\n",
        "            \"savefig.dpi\": 300,\n",
        "            \"font.size\": 11,\n",
        "            \"font.family\": \"DejaVu Sans\",\n",
        "            \"axes.spines.top\": False,\n",
        "            \"axes.spines.right\": False,\n",
        "            \"pdf.fonttype\": 42,\n",
        "            \"ps.fonttype\": 42,\n",
        "        }\n",
        "        with mpl.rc_context(rc):\n",
        "            fig, (ax1, ax2) = plt.subplots(\n",
        "                2, 1, figsize=(5, 3.5), sharex=True,\n",
        "                constrained_layout=use_constrained\n",
        "            )\n",
        "\n",
        "            ax1.plot(self.timeseries, self.currentInj, lw=1.3, color=\"#B58900\")\n",
        "            ax1.set_ylabel(\"Current (nA)\", labelpad=4)\n",
        "            ax1.yaxis.set_major_locator(MaxNLocator(nbins=4))\n",
        "            ax1.yaxis.set_major_formatter(FormatStrFormatter(\"%.1f\"))\n",
        "            ax1.text(-0.08, 1.05, \"a\", transform=ax1.transAxes,\n",
        "                    fontsize=12, fontweight=\"bold\", va=\"top\", ha=\"right\")\n",
        "            ax1.set_title(\"Current injection\", fontsize=12, weight=\"bold\", pad=4)\n",
        "\n",
        "            ax2.plot(self.timeseries, self.V, lw=1.5, color=\"black\")\n",
        "            ax2.set_ylabel(\"Voltage (mV)\", labelpad=4)\n",
        "            ax2.set_xlabel(\"Time (ms)\", labelpad=3)\n",
        "            ax2.yaxis.set_major_locator(MaxNLocator(nbins=4))\n",
        "            ax2.text(-0.08, 1.05, \"b\", transform=ax2.transAxes,\n",
        "                    fontsize=12, fontweight=\"bold\", va=\"top\", ha=\"right\")\n",
        "            ax2.set_title(\"Membrane potential (integrate-and-fire)\", fontsize=12, weight=\"bold\", pad=4)\n",
        "\n",
        "            for ax in (ax1, ax2):\n",
        "                ax.tick_params(direction=\"in\", length=3, width=0.8)\n",
        "                ax.tick_params(which=\"minor\", direction=\"in\", length=2, width=0.6)\n",
        "                ax.xaxis.set_minor_locator(AutoMinorLocator())\n",
        "                ax.yaxis.set_minor_locator(AutoMinorLocator())\n",
        "                for spine in [\"left\", \"bottom\"]:\n",
        "                    ax.spines[spine].set_linewidth(0.8)\n",
        "\n",
        "            if save:\n",
        "                fig.savefig(f\"{outbase}.pdf\", bbox_inches=\"tight\")\n",
        "                fig.savefig(f\"{outbase}.png\", bbox_inches=\"tight\")\n",
        "            return fig, (ax1, ax2)  # enables external tweaks/tests"
      ],
      "metadata": {
        "id": "7BqZMcNsu6XY"
      },
      "execution_count": 22,
      "outputs": []
    },
    {
      "cell_type": "markdown",
      "source": [
        "####3.2.1 Using the Neuron Class"
      ],
      "metadata": {
        "id": "NFUnBUWyD2mg"
      }
    },
    {
      "cell_type": "code",
      "source": [
        "# Create an instance of the Neuron class\n",
        "neuron_one = Neuron()\n",
        "\n",
        "# Key methods of the Neuron class\n",
        "neuron_one.create_injection_current()  # Initializes the injection current\n",
        "neuron_one.leaky_integrate_and_fire()  # Simulates the neuron using the leaky integrate-and-fire model\n",
        "neuron_one.plot_neuron()  # Plots the neuron's response"
      ],
      "metadata": {
        "colab": {
          "base_uri": "https://localhost:8080/",
          "height": 502
        },
        "id": "H6W51aK3C-cM",
        "outputId": "4c5f938f-08c7-43a0-a647-538fd44feceb"
      },
      "execution_count": 23,
      "outputs": [
        {
          "output_type": "execute_result",
          "data": {
            "text/plain": [
              "(<Figure size 600x420 with 2 Axes>,\n",
              " (<Axes: title={'center': 'Current injection'}, ylabel='Current (nA)'>,\n",
              "  <Axes: title={'center': 'Membrane potential (integrate-and-fire)'}, xlabel='Time (ms)', ylabel='Voltage (mV)'>))"
            ]
          },
          "metadata": {},
          "execution_count": 23
        },
        {
          "output_type": "display_data",
          "data": {
            "text/plain": [
              "<Figure size 600x420 with 2 Axes>"
            ],
            "image/png": "[encoded data removed]"
          },
          "metadata": {}
        }
      ]
    },
    {
      "cell_type": "markdown",
      "source": [
        "Task:\n",
        "- Find the parameters that control the neuron model in class Neuron (section 3.2), and modify them.\n",
        "- Run 3.2.1 again and see the changes."
      ],
      "metadata": {
        "id": "YjjzwxzcEBqy"
      }
    }
  ]
}